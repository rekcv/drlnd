{
 "cells": [
  {
   "cell_type": "markdown",
   "metadata": {},
   "source": [
    "# Navigation\n",
    "\n",
    "---\n",
    "\n",
    "This notebook is being used as an interactive report of the first project of the [Deep Reinforcement Learning Nanodegree](https://www.udacity.com/course/deep-reinforcement-learning-nanodegree--nd893).\n",
    "\n",
    "This project seemed like a good candidate to be solved with DQN. I wanted to apply what I have learned so far and implement my own version (the code is based on the DQN implementation presented in the previous lesson). This has also helped me get more comfortable with Python, as I am C++ programmer.\n",
    "\n",
    "\n",
    "## 1. Deep Q-Network\n",
    "\n",
    "The Deep Q-Network algorithm, also known as DQN, is a well known Deep Reinforcement Learning algorithm. \n",
    "\n",
    "DQN is a value-based method that uses a Deep Neural Network to approximate the action-value function of the problem we are trying to solve. \n",
    "\n",
    "### Common issues in value-based deep-reinforcement learning\n",
    "\n",
    "In a way, DQN does this by approaching the problem closer to what a supervised-learning solution would. However, value-based deep reinforcement learning presents two issues that differentiate both types of problems:\n",
    "\n",
    "- **Data does not comply with the IID assumption**: \n",
    "In a supervised learning problem, we start with a full dataset that can be preprocessed before we feed it to our algorithm. This makes the different examples in the dataset be more independent and identically distributed [IID assumption](https://en.wikipedia.org/wiki/Independent_and_identically_distributed_random_variables), which leads to benefits such as a faster convergence, and the possibility of getting more information out of our data.\n",
    "\n",
    "In value-based drl, our samples are often obtained as our model is trained, which makes the experience at t+1 much more correlated to that at t.\n",
    "\n",
    "- **Targets are non-stationary**\n",
    "Supervised learning is performed with fixed targets coming from the dataset. But in a drl environment, those targets are potentially being generated with every training step. In other words, we are chasing a moving target. This can lead to divergence.\n",
    "\n",
    "### Solving the non-compliance with the IID assumption\n",
    "\n",
    "To help ease the problem of data-correlation, and also make sure that all of our experience can be used during training, DQN introduces the use of a **replay memory**.\n",
    "\n",
    "Every new experience is stored in that memory (which is actually a FIFO buffer, i.e., the oldest experiences are discarded when the buffer is full), giving the agent a much richer range of experiences. The algorithm will work with mini-batches taken at random from the buffer, avoiding the sample-correlation problem and allowing for a more IID dataset.\n",
    "\n",
    "Replay buffers can be difficult to implement depending on the problem that is being resolved, as they will tend to high memory usage, but in our case this is not a real problem.\n",
    "\n",
    "### Solving the non-stationarity of targets\n",
    "\n",
    "To separate calculations and work with more stationary targets, DQN uses a second, separate network (**target network**) that lags behind the network we are using to train (**local network**). The weights of the local network are copied onto the target network, but this process only happens every few steps (**hard update**); we could also interpolate the values to try and get closer to the online ones (**soft update**), which is the option we have selected for this project. Either option will effectively \"lock\" our targets in place during that time.\n",
    "\n",
    "### Algorithm details\n",
    "\n",
    "DQN works by approximating the action-value function Q(s,a,θ). It uses a state-in-values-out architecture, which means that the network has an input layer matching the size of the state, and an output layer with as many nodes as potential actions we have - the algorithm approximates the Q values for every action in one go. \n",
    "\n",
    "DQN uses off-policy TD targets (r + ɣ*max_a'Q(s', a'; θ')). As we have discussed, it will calculate those targets by using a second neural network that uses the same weights as the local (also known as 'online') one, but that only updates them every few steps, basically locking the targets in place for that duration.\n",
    "\n",
    "Training uses a mini-batch of past experiences that is obtained from an experience memory.\n",
    "\n",
    "```{r, tidy=FALSE, eval=FALSE, highlight=FALSE }\n",
    "\n",
    "DQN optimization algorithm\n",
    "\n",
    "1. Get current state\n",
    "2. Select action to take from current state - we can use an epsilon-greedy strategy to allow for some exploration.\n",
    "3. Get the Q estimate for the next state using the target network\n",
    "4. Create TD targets as described earlier (r + ɣ*max_a'Q(s', a'; θ'))\n",
    "5. Query the current online estimate\n",
    "6. Calculate the loss and optimize the online network.\n",
    "7. Update target network's weights as required\n",
    "```"
   ]
  },
  {
   "cell_type": "markdown",
   "metadata": {},
   "source": [
    "## Implementation\n",
    "\n",
    "To improve readability, the code has been split into different files:\n",
    "- [agent.py](agent.py)\n",
    "- [replay_buffer.py](replay_buffer.py)\n",
    "- [model.py](model.py)\n",
    "\n",
    "These files are commented to help make that code self-explanatory.\n",
    "\n"
   ]
  },
  {
   "cell_type": "markdown",
   "metadata": {},
   "source": [
    "### Initializing the environment\n",
    "\n",
    "The first step would be to start our Unity environment. The next cell will do this for you, but you will need to make sure the correct executable for your environment is present and that the *path_to_env* constant points to that. \n",
    "\n",
    "We will as well get the default brain from the environment, as we will need that later on to run the actions on the agent. We will also import all of the libraries required to run this code."
   ]
  },
  {
   "cell_type": "code",
   "execution_count": 1,
   "metadata": {},
   "outputs": [
    {
     "name": "stderr",
     "output_type": "stream",
     "text": [
      "INFO:unityagents:\n",
      "'Academy' started successfully!\n",
      "Unity Academy name: Academy\n",
      "        Number of Brains: 1\n",
      "        Number of External Brains : 1\n",
      "        Lesson number : 0\n",
      "        Reset Parameters :\n",
      "\t\t\n",
      "Unity brain name: BananaBrain\n",
      "        Number of Visual Observations (per agent): 0\n",
      "        Vector Observation space type: continuous\n",
      "        Vector Observation space size (per agent): 37\n",
      "        Number of stacked Vector Observation: 1\n",
      "        Vector Action space type: discrete\n",
      "        Vector Action space size (per agent): 4\n",
      "        Vector Action descriptions: , , , \n"
     ]
    }
   ],
   "source": [
    "import matplotlib.pyplot as plt\n",
    "from collections import namedtuple, deque\n",
    "from agent import Agent\n",
    "from unityagents import UnityEnvironment\n",
    "import numpy as np\n",
    "import torch\n",
    "\n",
    "path_to_env = \"Banana_Windows_x86_64/Banana.exe\"\n",
    "env = UnityEnvironment(file_name=path_to_env)\n",
    "\n",
    "# Device to use\n",
    "device = torch.device(\"cuda:0\" if torch.cuda.is_available() else \"cpu\")\n",
    "\n",
    "# get the default brain\n",
    "brain_name = env.brain_names[0]\n",
    "brain = env.brains[brain_name]"
   ]
  },
  {
   "cell_type": "markdown",
   "metadata": {},
   "source": [
    "The simulation contains a single agent that navigates a large environment.  At each time step, it has four actions at its disposal:\n",
    "- `0` - walk forward \n",
    "- `1` - walk backward\n",
    "- `2` - turn left\n",
    "- `3` - turn right\n",
    "\n",
    "The state space has `37` dimensions and contains the agent's velocity, along with ray-based perception of objects around agent's forward direction.  A reward of `+1` is provided for collecting a yellow banana, and a reward of `-1` is provided for collecting a blue banana. \n",
    "\n",
    "This information (particularly, the size of the state space and the number of actions) is required to initialize our agent, which we will do in the next cell."
   ]
  },
  {
   "cell_type": "code",
   "execution_count": 2,
   "metadata": {},
   "outputs": [],
   "source": [
    "# reset the environment\n",
    "env_info = env.reset(train_mode=True)[brain_name]\n",
    "\n",
    "action_size = brain.vector_action_space_size\n",
    "state = env_info.vector_observations[0]\n",
    "state_size = len(state)\n",
    "\n",
    "#initialize the agent\n",
    "myAgent = Agent(state_size, action_size, 0, device)"
   ]
  },
  {
   "cell_type": "markdown",
   "metadata": {},
   "source": [
    "### Training the agent\n",
    "\n",
    "Once our environment is initialized, we can start training our agent. The function below (*train_agent*) will run this process. We are considering the problem as solved when the average score in the last 100 steps has been >= 13. When our agent hits this, we will save the weights in our now trained online network, so we can re-use them later when testing our agent.\n"
   ]
  },
  {
   "cell_type": "code",
   "execution_count": 3,
   "metadata": {},
   "outputs": [
    {
     "name": "stdout",
     "output_type": "stream",
     "text": [
      "Episode 100\tAverage Score: 1.13\n",
      "Episode 200\tAverage Score: 4.53\n",
      "Episode 300\tAverage Score: 8.06\n",
      "Episode 400\tAverage Score: 9.72\n",
      "Episode 500\tAverage Score: 12.75\n",
      "Episode 523\tAverage Score: 13.03\n",
      "Environment solved in 423 episodes!\tAverage Score: 13.03\n"
     ]
    }
   ],
   "source": [
    "def train_agent(n_episodes=2000, max_t=1000, eps_start=1.0, eps_end=0.01, eps_decay=0.995):\n",
    "    \n",
    "    scores = []\n",
    "    scores_window = deque(maxlen=100)\n",
    "    eps = eps_start\n",
    "    \n",
    "    # For as many episodes as requested...\n",
    "    for i_episode in range(1, n_episodes + 1):\n",
    "        \n",
    "        # Reset the environment, since we're just starting a new episode\n",
    "        env_info = env.reset(train_mode=True)[brain_name]\n",
    "        \n",
    "        # Do the same with the accumulated score...\n",
    "        score = 0\n",
    "        \n",
    "        # ... and get our initial state\n",
    "        state = env_info.vector_observations[0]\n",
    "        \n",
    "        # For as many time steps we want to run...\n",
    "        for t in range(max_t):\n",
    "            \n",
    "            # Calculate an action\n",
    "            action = myAgent.act(state, eps).astype(int)\n",
    "            \n",
    "            # Get state, reward, etc. after the execution of that action\n",
    "            env_info = env.step(action)[brain_name]\n",
    "            next_state = env_info.vector_observations[0]\n",
    "            reward = env_info.rewards[0]\n",
    "            done = env_info.local_done[0]\n",
    "            \n",
    "            # Pass the information of this experience up to the Agent\n",
    "            myAgent.step(state, action, reward, next_state, done)\n",
    "            \n",
    "            # Update accumulated score\n",
    "            score += reward\n",
    "            \n",
    "            # Update state to use\n",
    "            state = next_state\n",
    "            \n",
    "            if done:\n",
    "                break\n",
    "        \n",
    "        # When we're done with this episode, we'll store the scores and decide if we've resolved the problem\n",
    "        scores_window.append(score)\n",
    "        scores.append(score)\n",
    "        eps = max(eps_end, eps_decay * eps)\n",
    "       \n",
    "        print('\\rEpisode {}\\tAverage Score: {:.2f}'.format(i_episode, np.mean(scores_window)), end=\"\")\n",
    "        \n",
    "        if i_episode % 100 == 0:\n",
    "            print('\\rEpisode {}\\tAverage Score: {:.2f}'.format(i_episode, np.mean(scores_window)))\n",
    "        \n",
    "        min_score_for_solved = 13.0\n",
    "        if np.mean(scores_window) >= min_score_for_solved:\n",
    "            print('\\nEnvironment solved in {:d} episodes!\\tAverage Score: {:.2f}'.format(i_episode-100, np.mean(scores_window)))\n",
    "            \n",
    "            # Environment has been solved, so save the weights of the local network\n",
    "            oldState = myAgent.qnetwork_local.state_dict()\n",
    "            torch.save(oldState, 'trained_results.pth')\n",
    "            break\n",
    "    \n",
    "    return scores\n",
    "            \n",
    "    \n",
    "# First, train our agent    \n",
    "scores = train_agent()"
   ]
  },
  {
   "cell_type": "code",
   "execution_count": 4,
   "metadata": {},
   "outputs": [
    {
     "data": {
      "text/plain": [
       "<function matplotlib.pyplot.show(close=None, block=None)>"
      ]
     },
     "execution_count": 4,
     "metadata": {},
     "output_type": "execute_result"
    },
    {
     "data": {
      "image/png": "[encoded data removed]",
      "text/plain": [
       "<Figure size 432x288 with 1 Axes>"
      ]
     },
     "metadata": {
      "needs_background": "light"
     },
     "output_type": "display_data"
    }
   ],
   "source": [
    "# Then, plot the scores obtained per episode we've run\n",
    "fig = plt.figure()\n",
    "ax = fig.add_subplot(111)\n",
    "plt.plot(np.arange(len(scores)), scores)\n",
    "plt.ylabel('Score')\n",
    "plt.xlabel('Episode #')\n",
    "plt.show"
   ]
  },
  {
   "cell_type": "markdown",
   "metadata": {},
   "source": [
    "We can also see what the results of our training look like on an agent. For this, all we need to do is to reload the results we had previously saved into the local network (so it starts directly from the state the training left it at). After that, we can get our agent to act using its policy and just observe how it behaves. We will not run the environment in train_mode this time."
   ]
  },
  {
   "cell_type": "code",
   "execution_count": 5,
   "metadata": {},
   "outputs": [
    {
     "name": "stdout",
     "output_type": "stream",
     "text": [
      "Score:  21.0\n",
      "Score:  20.0\n",
      "Score:  22.0\n",
      "Score:  18.0\n",
      "Score:  17.0\n"
     ]
    }
   ],
   "source": [
    "newState = torch.load('trained_results.pth')\n",
    "myAgent.qnetwork_local.load_state_dict(newState)\n",
    "\n",
    "episode_count = 5\n",
    "for i in range(episode_count):\n",
    "    env_info = env.reset(train_mode=False)[brain_name]\n",
    "    state = env_info.vector_observations[0]\n",
    "\n",
    "    score = 0\n",
    "    while True:\n",
    "        action = myAgent.act(state).astype(int)\n",
    "        env_info = env.step(action)[brain_name]\n",
    "        \n",
    "        reward = env_info.rewards[0]\n",
    "        score += reward\n",
    "        \n",
    "        done = env_info.local_done[0]\n",
    "        \n",
    "        #update state\n",
    "        state = env_info.vector_observations[0]\n",
    "\n",
    "        if done:\n",
    "            break\n",
    "            \n",
    "    # Print the score achieve by the agent during this episode\n",
    "    print(\"Score: \", score)"
   ]
  },
  {
   "cell_type": "markdown",
   "metadata": {},
   "source": [
    "Finally, we just need to close the environment once we are done experimenting with it."
   ]
  },
  {
   "cell_type": "code",
   "execution_count": 6,
   "metadata": {},
   "outputs": [],
   "source": [
    "env.close()"
   ]
  },
  {
   "cell_type": "markdown",
   "metadata": {},
   "source": [
    "## Ideas for future work\n",
    "\n",
    "The first thing we could try to improve our solution is to study the effects of the different hyperparameters on the results we obtain. Could we use more hidden layers? Larger or shorter ones? Are our epsilon, tau, gamma, etc. correct, or can we choose something better.\n",
    "\n",
    "Secondly, we could attack the solution itself. DQN has received several improvements over the years. The original algorithm was introduced in 2013 and it only included the concept of *replay memory*. Later, in 2015, a second paper was published that added the use of a target network.\n",
    "\n",
    "Over the years, new improvements have been introduced, solving some of the problems of the original approach, which has made vanilla DQN not be considered state-of-the-art anymore. As future work, we could explore implement some of these enhanced algorithms.\n",
    "\n",
    "The first one we would tackle is DDQN (double deep Q-networks). DQN shows a positive bias (which affects performance negatively) due to the use of max estimate values. DDQN addresses this problem.\n",
    "\n",
    "After DDQN, we could try to introduce Dueling DDQN, which does not change the algorithm, but modifies the architecture of the network.\n",
    "\n",
    "It would be interesting to compare the performance and results of all these different approaches and try to understand what changes are presented and why a version could be preferable over another.\n"
   ]
  }
 ],
 "metadata": {
  "kernelspec": {
   "display_name": "drlnd",
   "language": "python",
   "name": "drlnd"
  },
  "language_info": {
   "codemirror_mode": {
    "name": "ipython",
    "version": 3
   },
   "file_extension": ".py",
   "mimetype": "text/x-python",
   "name": "python",
   "nbconvert_exporter": "python",
   "pygments_lexer": "ipython3",
   "version": "3.6.13"
  }
 },
 "nbformat": 4,
 "nbformat_minor": 2
}
