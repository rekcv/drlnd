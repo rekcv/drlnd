{
 "cells": [
  {
   "cell_type": "markdown",
   "metadata": {},
   "source": [
    "# P3 - Collaboration and Competition\n",
    "\n",
    "---\n",
    "\n",
    "In this notebook, I will describe my solution to the third project of the [Deep Reinforcement Learning Nanodegree](https://www.udacity.com/course/deep-reinforcement-learning-nanodegree--nd893) program.\n",
    "\n",
    "\n",
    "## Learning Algorithm.\n",
    "\n",
    "The algorithm I selected is **Deep Deterministic Policy Gradient (DDPG) with Prioritized Experience Replay (PER)**. This is an extension of the solution I provide for P2 (Continuous control).\n",
    "DQN is described in the paper [\"Continuous Control With Deep Reinforcement Learning\"](https://arxiv.org/pdf/1509.02971.pdf), while PER is introduced here [\"Prioritized Experience Replay\"](https://arxiv.org/pdf/1511.05952)\n",
    "\n",
    "As an Actor-Critic method, DDPG uses two networks. \n",
    "* Actor - selects an action to take given a state\n",
    "* Critic - it \"scores\" the action selected by the actor, predicting \"how good\" the action is\n",
    "\n",
    "To separate calculations and work with more stationary targets, DQN used a second, separate network (**target network**) that lags behind the network we are using to train (**local network**). The weights of the local network are copied onto the target network, but this process only happens every few steps (**hard update**); we could also interpolate the values to try and get closer to the online ones (**soft update**), which is the option we have selected for this project. Either option will effectively \"lock\" our targets in place during that time.\n",
    "\n",
    "In DDPG, because we have two distinct networks, we need to keep our \"target\" and \"local\" versions of both Actor and Critic to add stability to the training.\n",
    "\n",
    "To allow some exploration in the Actor, we use an **Ornstein-Uhlenbeck process** for generating noise that will be added to our selected actions. It samples noise from a correlated normal distribution.\n",
    "\n",
    "The algorithm works as follows:\n",
    "![title](img/ddpg.png)\n",
    "\n",
    "### Prioritized Experience Replay\n",
    "\n",
    "DDPG utilizes a replay buffer to help comply with the [IID assumption](https://en.wikipedia.org/wiki/Independent_and_identically_distributed_random_variables). By storing our observations in a buffer, and uniformly sampling batches from that buffer, we get experiences that are less correlated. However, this method does not take into account the significance of each of the elements in the buffer. \n",
    "\n",
    "With PER, we build our mini-batches considering the value of the experiences in the buffer. Not all of those experiences are equally useful when the agents is trying to train from them, so we select those that maximize this learning value. This is measured by the magnitude of their TD error.\n",
    "\n",
    "In [Improving DDPG via Prioritized Experience Replay](https://cardwing.github.io/files/RL_course_report.pdf) DDPG was successfully improved by PER. The algorithm (DDPG with rank-based prioritization) looks as follows:\n",
    "\n",
    "![title](img/per.png)\n",
    "\n",
    "\n",
    "### Implementation details\n",
    "\n",
    "To improve readability, the code has been split into different files:\n",
    "\n",
    "* agent_ddpg.py\n",
    "* model_ddpg.py\n",
    "* per_replay_buffer.py\n",
    "* ounoise.py\n",
    "* utils.py\n",
    "\n",
    "These files are commented to help make that code self-explanatory.\n",
    "\n",
    "In agent_ddpg.py - AgentOverlord::step, we add all of the experiences for all of the agents to the Replay Buffer before we try to learn from it. \n",
    "\n",
    "per_replay_buffer.py - in this case, we have adapted the implementation by Jonathan Pearce (https://github.com/Jonathan-Pearce/DDPG_PER/blob/master/PER_buffer.py) so it can work with the rest of the framework we had already constructed in \"p2 - continuous control\". This implementation makes use of a *Segment Tree*, defined in utils.py\n",
    "\n",
    "\n",
    "## Architecture and hyperparameters\n",
    "\n",
    "- Our Actor:\n",
    "    - Uses a deep neural network with:\n",
    "    -- An *input layer* with **33 nodes**.\n",
    "    -- **Three** *hidden layers* with **128 nodes each**.\n",
    "    -- An *output layer* with **4 nodes**.\n",
    "    - Applies **batch normalization** on each layer\n",
    "    - Uses **ReLU** as the activation function of the first two layers, and **Tanh** for the third layer. The latter was selected because the actions are composed of four continuous values in the range [-1..1]\n",
    "    \n",
    "    \n",
    "- Our Critic:\n",
    "    - Uses a deep neural network with:\n",
    "    -- An *input layer* with **33 nodes**.\n",
    "    -- A hidden layer with **256 nodes** + **4 extra inputs** to incorporate the action selected by the actor. \n",
    "    -- A second hidden layer with **256 nodes**\n",
    "    -- A third hidden layer with **128 nodes**\n",
    "    -- An *output layer* with **1 node**.\n",
    "    - Only the input layer is batch normalized.\n",
    "    - We use **ReLU** as the activation function.\n",
    "\n",
    "\n",
    "- We use an **Adam optimizer**\n",
    "\n",
    "\n",
    "- We use the following hyperparameters:\n",
    "    - *Gamma* (discount factor): **0.99**\n",
    "    - *Tau* (we use a soft update to update the weights of the target network): **1e-3**\n",
    "    - *Actor Learning Rate*: **1e-3**\n",
    "    - *Critic Learning Rate*: **1e-3**\n",
    "    - *Batch size*: **128**\n",
    "    - *Epsilon*: **0.01**\n",
    "    - *Alpha exponent* (to what extent the prioritization is used): **0.6** \n",
    "    - *Beta exponent* (to control how much importance-sampling weights correct the sample probability): **0.2**\n",
    "    - *Beta increment per sampling* (to modify beta overtime): **1e-3**\n",
    "\n",
    "\n",
    "- Lastly, our *replay buffer* size is **1e5**."
   ]
  },
  {
   "cell_type": "markdown",
   "metadata": {},
   "source": [
    "## Training\n",
    "\n",
    "First, let's initialize the Unity environment."
   ]
  },
  {
   "cell_type": "code",
   "execution_count": 1,
   "metadata": {},
   "outputs": [
    {
     "name": "stderr",
     "output_type": "stream",
     "text": [
      "INFO:unityagents:\n",
      "'Academy' started successfully!\n",
      "Unity Academy name: Academy\n",
      "        Number of Brains: 1\n",
      "        Number of External Brains : 1\n",
      "        Lesson number : 0\n",
      "        Reset Parameters :\n",
      "\t\t\n",
      "Unity brain name: TennisBrain\n",
      "        Number of Visual Observations (per agent): 0\n",
      "        Vector Observation space type: continuous\n",
      "        Vector Observation space size (per agent): 8\n",
      "        Number of stacked Vector Observation: 3\n",
      "        Vector Action space type: continuous\n",
      "        Vector Action space size (per agent): 2\n",
      "        Vector Action descriptions: , \n"
     ]
    }
   ],
   "source": [
    "from unityagents import UnityEnvironment\n",
    "import numpy as np\n",
    "from agent_ddpg import AgentOverlord\n",
    "import matplotlib.pyplot as plt\n",
    "import torch as T\n",
    "import torch.nn.functional as F\n",
    "from collections import deque\n",
    "\n",
    "# Initialize the environment - please note we're using v2 of the problem (multiple agents)\n",
    "env = UnityEnvironment( file_name='Tennis_Windows_x86_64/Tennis.exe' )\n",
    "\n",
    "# Get brain - this will be used to control the unity environment\n",
    "brain_name = env.brain_names[ 0 ]\n",
    "brain = env.brains[ brain_name ]"
   ]
  },
  {
   "cell_type": "markdown",
   "metadata": {},
   "source": [
    "\n",
    "###  Agent initialization\n",
    "\n",
    "From the description of the problem, we know that:\n",
    "\n",
    "> In this environment, two agents control rackets to bounce a ball over a net. If an agent hits the ball over the net, it receives a reward of +0.1. If an agent lets a ball hit the ground or hits the ball out of bounds, it receives a reward of -0.01. Thus, the goal of each agent is to keep the ball in play.\n",
    "The observation space consists of 8 variables corresponding to the position and velocity of the ball and racket. Each agent receives its own, local observation. Two continuous actions are available, corresponding to movement toward (or away from) the net, and jumping.\n",
    "\n",
    "With this information, let's initialize our agents and get prepared to solve the problem (in this implementation, we are actually adding an \"agent overlord\" that will keep track of all of our agents)."
   ]
  },
  {
   "cell_type": "code",
   "execution_count": 2,
   "metadata": {},
   "outputs": [
    {
     "name": "stdout",
     "output_type": "stream",
     "text": [
      "Size of each action: 2\n",
      "Number of agents: 2\n"
     ]
    }
   ],
   "source": [
    "# reset the environment\n",
    "env_info = env.reset(train_mode=False)[brain_name]\n",
    "\n",
    "# size of each action\n",
    "action_size = brain.vector_action_space_size\n",
    "print('Size of each action:', action_size)\n",
    "\n",
    "# examine the state space \n",
    "states = env_info.vector_observations\n",
    "state_size = states.shape[1]\n",
    "\n",
    "# number of agents\n",
    "num_agents = states.shape[ 0 ]\n",
    "print('Number of agents:', num_agents)\n",
    "\n",
    "# hyperparameters\n",
    "actor_hidden = [128, 128, 128]\n",
    "actor_activation = [F.relu, F.relu, F.relu, T.tanh]\n",
    "\n",
    "critic_hidden = [256, 256, 128]\n",
    "\n",
    "gamma = 0.99\n",
    "tau = 1e-3\n",
    "actor_learning_rate = 1e-3\n",
    "critic_learning_rate = 1e-3\n",
    "buffer_size = int(1e5)\n",
    "batch_size= 128\n",
    "seed = 19\n",
    "epsilon = 0.01\n",
    "alpha = 0.6\n",
    "beta = 0.2\n",
    "beta_increment_per_sampling = 1e-3\n",
    "\n",
    "# Initialize device\n",
    "device = T.device(\"cuda:0\" if T.cuda.is_available() else \"cpu\")\n",
    "\n",
    "# initialize overlord\n",
    "agent_overlord = AgentOverlord( device, \n",
    "                                state_size, action_size, num_agents, \n",
    "                                actor_hidden, actor_activation,\n",
    "                                critic_hidden, \n",
    "                                gamma, tau, actor_learning_rate, critic_learning_rate, \n",
    "                                buffer_size, batch_size, \n",
    "                                seed, \n",
    "                                epsilon, alpha, beta, beta_increment_per_sampling )\n"
   ]
  },
  {
   "cell_type": "markdown",
   "metadata": {},
   "source": [
    "### Solving the problem\n",
    "\n",
    "We are now ready to start solving the problem.\n",
    "\n",
    "From the problem description:\n",
    "\n",
    "> The task is episodic, and in order to solve the environment, your agents must get an average score of +0.5 (over 100 consecutive episodes, after taking the maximum over both agents). Specifically, after each episode, we add up the rewards that each agent received (without discounting), to get a score for each agent. This yields 2 (potentially different) scores. We then take the maximum of these 2 score, which yields a single score for each episode.\n",
    "The environment is considered solved, when the average (over 100 episodes) of those scores is at least +0.5.\n",
    "\n",
    "We are setting a maximum number of episodes of *5000*."
   ]
  },
  {
   "cell_type": "code",
   "execution_count": 4,
   "metadata": {},
   "outputs": [
    {
     "name": "stdout",
     "output_type": "stream",
     "text": [
      "Episode 100\tAverage Score: 0.00470\n",
      "Episode 200\tAverage Score: 0.02060\n",
      "Episode 300\tAverage Score: 0.05330\n",
      "Episode 400\tAverage Score: 0.06990\n",
      "Episode 500\tAverage Score: 0.08580\n",
      "Episode 600\tAverage Score: 0.09010\n",
      "Episode 700\tAverage Score: 0.09320\n",
      "Episode 800\tAverage Score: 0.25300\n",
      "Episode 900\tAverage Score: 0.15880\n",
      "Episode 1000\tAverage Score: 0.31580\n",
      "Episode 1026\tAverage Score: 0.50960Sucess in 1026 episodes!\n",
      "Mean score was: 0.50960, above the criterium 0.50000.\n"
     ]
    },
    {
     "data": {
      "text/plain": [
       "<function matplotlib.pyplot.show(close=None, block=None)>"
      ]
     },
     "execution_count": 4,
     "metadata": {},
     "output_type": "execute_result"
    },
    {
     "data": {
      "image/png": "[encoded data removed]",
      "text/plain": [
       "<Figure size 432x288 with 1 Axes>"
      ]
     },
     "metadata": {
      "needs_background": "light"
     },
     "output_type": "display_data"
    }
   ],
   "source": [
    "MAX_EPISODES = 5000\n",
    "MIN_SUCCESS_MEAN_SCORE = 0.5\n",
    "\n",
    "EPISODE_RANGE_COUNT = 100\n",
    "\n",
    "scores_deque = deque(maxlen=EPISODE_RANGE_COUNT)\n",
    "scores = []\n",
    "\n",
    "success = False\n",
    "for episode in range(1,MAX_EPISODES):\n",
    "    \n",
    "    # let's restart the environment and get the initial states of the agents\n",
    "    env_info = env.reset( train_mode=True )[ brain_name ]    \n",
    "    states = env_info.vector_observations\n",
    "    score = np.zeros(num_agents)\n",
    "    agent_overlord.reset()\n",
    "\n",
    "    while True:\n",
    "\n",
    "        # choose the actions we should take\n",
    "        actions = agent_overlord.act( states )\n",
    "\n",
    "        # apply them\n",
    "        env_info = env.step( actions )[ brain_name ]\n",
    "\n",
    "        next_states = env_info.vector_observations\n",
    "\n",
    "        rewards = env_info.rewards\n",
    "        dones = env_info.local_done\n",
    "\n",
    "        # update the overlord\n",
    "        agent_overlord.step( states, actions, rewards, next_states, dones )\n",
    "\n",
    "        # update states for next iteration\n",
    "        states = next_states\n",
    "\n",
    "        score += env_info.rewards\n",
    "\n",
    "        if np.any( dones ):\n",
    "            # episode is done\n",
    "            break\n",
    "\n",
    "    # Gets max score obtained by either agent\n",
    "    max_score = np.max(score)\n",
    "\n",
    "    scores_deque.append(max_score)           \n",
    "    scores.append(max_score)\n",
    "    \n",
    "    # Calculate the mean score so far \n",
    "    mean_score_so_far = np.mean(scores_deque)\n",
    "        \n",
    "    print('\\rEpisode {}\\tAverage Score: {:.5f}'.format(episode, mean_score_so_far), end=\"\")\n",
    "    if episode % EPISODE_RANGE_COUNT == 0:\n",
    "        print('\\rEpisode {}\\tAverage Score: {:.5f}'.format(episode, mean_score_so_far))\n",
    "\n",
    "    # If our deque is full, this means we have enough episodes to potentially end the experiment.\n",
    "    # In that case, if the mean of the scores in the last episodes is over the success criterium\n",
    "    if len(scores_deque) == EPISODE_RANGE_COUNT and mean_score_so_far > MIN_SUCCESS_MEAN_SCORE:\n",
    "        # End experiment\n",
    "        success = True\n",
    "        break\n",
    "    \n",
    "if success:\n",
    "    print(\"Sucess in {:d} episodes!\".format(episode))\n",
    "    print( \"Mean score was: {:.5f}, above the criterium {:.5f}.\".format(mean_score_so_far, MIN_SUCCESS_MEAN_SCORE))\n",
    "    \n",
    "    # Save the trained model\n",
    "    agent_overlord.save()\n",
    "else:\n",
    "    print(\"We did not reach the desired score {:.5f}/{:.5f}\".format(mean_score_so_far, MIN_SUCCESS_MEAN_SCORE))\n",
    "\n",
    "# Plot a figure showing the mean score per episode\n",
    "fig = plt.figure()\n",
    "ax = fig.add_subplot(111)\n",
    "plt.plot(np.arange(len(scores)), scores)\n",
    "plt.ylabel('Score')\n",
    "plt.xlabel('Episode #')\n",
    "plt.show"
   ]
  },
  {
   "cell_type": "markdown",
   "metadata": {},
   "source": [
    "### 4. Test\n",
    "\n",
    "If our experiment succeeded in the previous step, that means we now have a trained model. Let's  the environment once more, and look at how the agents perform in real-time for one episode. "
   ]
  },
  {
   "cell_type": "code",
   "execution_count": 7,
   "metadata": {},
   "outputs": [],
   "source": [
    "# Now, load the saved model\n",
    "# - Actually, we don't need to do this, as the overlord is still loaded at this point\n",
    "# - But this is what we would have to do if we need to load it from file\n",
    "# agent_overlord.reset()\n",
    "# agent_overlord.load()\n",
    "\n",
    "env_info = env.reset( train_mode=False )[ brain_name ]    \n",
    "states = env_info.vector_observations\n",
    "    \n",
    "episode_num = 5\n",
    "for i in range(episode_num):\n",
    "    while True:\n",
    "        # choose the actions we should take\n",
    "        actions = agent_overlord.act( states )\n",
    "\n",
    "        # apply them\n",
    "        env_info = env.step( actions )[ brain_name ]\n",
    "\n",
    "        dones = env_info.local_done\n",
    "        if np.any( dones ):\n",
    "            # episode is done\n",
    "            break\n",
    "\n",
    "        # update states for next iteration\n",
    "        states = env_info.vector_observations"
   ]
  },
  {
   "cell_type": "code",
   "execution_count": 8,
   "metadata": {},
   "outputs": [],
   "source": [
    "# And, finally, close the environment\n",
    "env.close()"
   ]
  },
  {
   "cell_type": "markdown",
   "metadata": {},
   "source": [
    "This is a video recording of the test results running in Unity."
   ]
  },
  {
   "cell_type": "code",
   "execution_count": 9,
   "metadata": {},
   "outputs": [
    {
     "data": {
      "text/html": [
       "\n",
       "        <iframe\n",
       "            width=\"560\"\n",
       "            height=\"315\"\n",
       "            src=\"https://www.youtube.com/embed/cJtI-rwTXxI\"\n",
       "            frameborder=\"0\"\n",
       "            allowfullscreen\n",
       "        ></iframe>\n",
       "        "
      ],
      "text/plain": [
       "<IPython.lib.display.IFrame at 0x2098d3dc0b8>"
      ]
     },
     "execution_count": 9,
     "metadata": {},
     "output_type": "execute_result"
    }
   ],
   "source": [
    "from IPython.display import IFrame\n",
    "\n",
    "IFrame(src='https://www.youtube.com/embed/cJtI-rwTXxI', width='560', height='315')"
   ]
  },
  {
   "cell_type": "markdown",
   "metadata": {},
   "source": [
    "## Ideas for future work\n",
    "\n",
    "The first thing we could try to improve our solution is to study the effects of the different hyperparameters on the results we obtain. Could we use more hidden layers? Larger or shorter ones? Are our tau, gamma, etc. correct, or can we choose something better? \n",
    "\n",
    "I work in AAA videogames. The solution chosen uses a Replay Buffer, which can potentially consume a lot of memory (depending on the problem). Multithreading a solution can sometimes be easier than optimizing its memory usage. This makes algorithms such as **Advantage Actor-Critic (A3C)** interesting, as they do not rely on \"memory\" to fight correlation, but instead use the observations of multiple independent agents.\n",
    "\n",
    "I would also like to try [Multi-Agent Actor-Critic for Mixed Cooperative-Competitive Environments](https://arxiv.org/pdf/1706.02275), as it looks like it might outperform my solution.\n",
    "\n",
    "It would be interesting to compare the performance and results of these two different approaches, as well of their memory requirements, to get more data that can inform whether this type of RL is feasible for a modern AAA videogame."
   ]
  }
 ],
 "metadata": {
  "kernelspec": {
   "display_name": "drlnd",
   "language": "python",
   "name": "drlnd"
  },
  "language_info": {
   "codemirror_mode": {
    "name": "ipython",
    "version": 3
   },
   "file_extension": ".py",
   "mimetype": "text/x-python",
   "name": "python",
   "nbconvert_exporter": "python",
   "pygments_lexer": "ipython3",
   "version": "3.6.13"
  }
 },
 "nbformat": 4,
 "nbformat_minor": 2
}
